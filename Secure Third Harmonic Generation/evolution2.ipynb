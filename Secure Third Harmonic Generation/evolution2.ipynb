{
 "cells": [
  {
   "cell_type": "code",
   "execution_count": 18,
   "id": "012f8cc4",
   "metadata": {},
   "outputs": [
    {
     "data": {
      "text/plain": [
       "['Sweep_vs_modperiod\\\\Full_Sim_modperiod_100.0_modamp_7.0_cells_830.png',\n",
       " 'Sweep_vs_modperiod\\\\Full_Sim_modperiod_30.0_modamp_7.0_cells_830.png',\n",
       " 'Sweep_vs_modperiod\\\\Full_Sim_modperiod_32.4_modamp_7.0_cells_830.png',\n",
       " 'Sweep_vs_modperiod\\\\Full_Sim_modperiod_34.8_modamp_7.0_cells_830.png',\n",
       " 'Sweep_vs_modperiod\\\\Full_Sim_modperiod_37.2_modamp_7.0_cells_830.png',\n",
       " 'Sweep_vs_modperiod\\\\Full_Sim_modperiod_39.7_modamp_7.0_cells_830.png',\n",
       " 'Sweep_vs_modperiod\\\\Full_Sim_modperiod_42.1_modamp_7.0_cells_830.png',\n",
       " 'Sweep_vs_modperiod\\\\Full_Sim_modperiod_44.5_modamp_7.0_cells_830.png',\n",
       " 'Sweep_vs_modperiod\\\\Full_Sim_modperiod_46.9_modamp_7.0_cells_830.png',\n",
       " 'Sweep_vs_modperiod\\\\Full_Sim_modperiod_49.3_modamp_7.0_cells_830.png',\n",
       " 'Sweep_vs_modperiod\\\\Full_Sim_modperiod_51.7_modamp_7.0_cells_830.png',\n",
       " 'Sweep_vs_modperiod\\\\Full_Sim_modperiod_54.1_modamp_7.0_cells_830.png',\n",
       " 'Sweep_vs_modperiod\\\\Full_Sim_modperiod_56.6_modamp_7.0_cells_830.png',\n",
       " 'Sweep_vs_modperiod\\\\Full_Sim_modperiod_59.0_modamp_7.0_cells_830.png',\n",
       " 'Sweep_vs_modperiod\\\\Full_Sim_modperiod_61.4_modamp_7.0_cells_830.png',\n",
       " 'Sweep_vs_modperiod\\\\Full_Sim_modperiod_63.8_modamp_7.0_cells_830.png',\n",
       " 'Sweep_vs_modperiod\\\\Full_Sim_modperiod_66.2_modamp_7.0_cells_830.png',\n",
       " 'Sweep_vs_modperiod\\\\Full_Sim_modperiod_68.6_modamp_7.0_cells_830.png',\n",
       " 'Sweep_vs_modperiod\\\\Full_Sim_modperiod_71.0_modamp_7.0_cells_830.png',\n",
       " 'Sweep_vs_modperiod\\\\Full_Sim_modperiod_73.4_modamp_7.0_cells_830.png',\n",
       " 'Sweep_vs_modperiod\\\\Full_Sim_modperiod_75.9_modamp_7.0_cells_830.png',\n",
       " 'Sweep_vs_modperiod\\\\Full_Sim_modperiod_78.3_modamp_7.0_cells_830.png',\n",
       " 'Sweep_vs_modperiod\\\\Full_Sim_modperiod_80.7_modamp_7.0_cells_830.png',\n",
       " 'Sweep_vs_modperiod\\\\Full_Sim_modperiod_83.1_modamp_7.0_cells_830.png',\n",
       " 'Sweep_vs_modperiod\\\\Full_Sim_modperiod_85.5_modamp_7.0_cells_830.png',\n",
       " 'Sweep_vs_modperiod\\\\Full_Sim_modperiod_87.9_modamp_7.0_cells_830.png',\n",
       " 'Sweep_vs_modperiod\\\\Full_Sim_modperiod_90.3_modamp_7.0_cells_830.png',\n",
       " 'Sweep_vs_modperiod\\\\Full_Sim_modperiod_92.8_modamp_7.0_cells_830.png',\n",
       " 'Sweep_vs_modperiod\\\\Full_Sim_modperiod_95.2_modamp_7.0_cells_830.png',\n",
       " 'Sweep_vs_modperiod\\\\Full_Sim_modperiod_97.6_modamp_7.0_cells_830.png',\n",
       " 'Sweep_vs_modperiod\\\\Summary_vs_modperiod_for_3p.png']"
      ]
     },
     "execution_count": 18,
     "metadata": {},
     "output_type": "execute_result"
    }
   ],
   "source": [
    "from glob import glob\n",
    "import cv2\n",
    "images = glob(r'Sweep_vs_modperiod\\*.png', recursive=True)\n",
    "images"
   ]
  },
  {
   "cell_type": "code",
   "execution_count": 19,
   "id": "c8e75b31",
   "metadata": {},
   "outputs": [],
   "source": [
    "video = cv2.VideoWriter('Sweep_vs_modperiod/slideshow.mp4', cv2.VideoWriter_fourcc(*'DIVX'), 1, (800,600))\n",
    "\n",
    "for image in images:\n",
    "    img = cv2.imread(image)\n",
    "    img = cv2.resize(img, (800,600))\n",
    "    video.write(img)\n",
    "\n",
    "video.release()"
   ]
  },
  {
   "cell_type": "code",
   "execution_count": null,
   "id": "35e4aaad",
   "metadata": {},
   "outputs": [],
   "source": []
  }
 ],
 "metadata": {
  "kernelspec": {
   "display_name": "base",
   "language": "python",
   "name": "python3"
  },
  "language_info": {
   "codemirror_mode": {
    "name": "ipython",
    "version": 3
   },
   "file_extension": ".py",
   "mimetype": "text/x-python",
   "name": "python",
   "nbconvert_exporter": "python",
   "pygments_lexer": "ipython3",
   "version": "3.11.7"
  }
 },
 "nbformat": 4,
 "nbformat_minor": 5
}
